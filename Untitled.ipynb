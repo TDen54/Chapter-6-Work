{
 "cells": [
  {
   "cell_type": "markdown",
   "id": "b6ff4b90",
   "metadata": {},
   "source": [
    "#Chapter 6 Questions"
   ]
  },
  {
   "cell_type": "markdown",
   "id": "9df59274",
   "metadata": {},
   "source": [
    "##Algorithm Workbench Question 1"
   ]
  },
  {
   "cell_type": "code",
   "execution_count": 20,
   "id": "00c45612",
   "metadata": {},
   "outputs": [
    {
     "name": "stdout",
     "output_type": "stream",
     "text": [
      "Your name has been written to my_name.txt.\n"
     ]
    }
   ],
   "source": [
    "your_name = \"Trevor\"\n",
    "filename = \"my_name.txt\"\n",
    "try:\n",
    "    with open(filename, 'w') as file:\n",
    "        file.write(your_name)\n",
    "    print(f\"Your name has been written to {filename}.\")\n",
    "except IOError as e:\n",
    "    print(f\"An error occurred: {e}\")"
   ]
  },
  {
   "cell_type": "markdown",
   "id": "d2a7800d",
   "metadata": {},
   "source": [
    "I used the open() function with a specified filename and mode ('w' for writing) to create or open a file. Then, I utilized the with statement to ensure the file is automatically closed when the block of code is exited. Inside the block, I used the write() method to add my name to the file."
   ]
  },
  {
   "cell_type": "code",
   "execution_count": 21,
   "id": "b5e297d3",
   "metadata": {},
   "outputs": [
    {
     "name": "stdout",
     "output_type": "stream",
     "text": [
      "Your name from my_name.txt: Trevor\n"
     ]
    }
   ],
   "source": [
    "filename = \"my_name.txt\"\n",
    "try:\n",
    "    with open(filename, 'r') as file:\n",
    "        your_name = file.read()\n",
    "    print(f\"Your name from {filename}: {your_name}\")\n",
    "except IOError as e:\n",
    "    print(f\"An error occurred: {e}\")"
   ]
  },
  {
   "cell_type": "markdown",
   "id": "986bfe47",
   "metadata": {},
   "source": [
    " I used the 'a' mode when opening the file with the open() function, which stands for append. This mode ensures that the existing content of the file is not erased when writing new data. Inside the with block, I used the write() method to append the desired data to the end of the file."
   ]
  },
  {
   "cell_type": "markdown",
   "id": "de2c4687",
   "metadata": {},
   "source": [
    "#Programming Exercises"
   ]
  },
  {
   "cell_type": "markdown",
   "id": "60f3dd3e",
   "metadata": {},
   "source": [
    "##Question 1"
   ]
  },
  {
   "cell_type": "code",
   "execution_count": 22,
   "id": "cc00a2ce",
   "metadata": {},
   "outputs": [
    {
     "name": "stdout",
     "output_type": "stream",
     "text": [
      "File 'numbers.txt' has been created with a series of integers.\n"
     ]
    }
   ],
   "source": [
    "filename = \"numbers.txt\"\n",
    "integers = [1, 2, 3, 4, 5, 6, 7, 8, 9, 10]\n",
    "try:\n",
    "    with open(filename, 'w') as file:\n",
    "        for number in integers:\n",
    "            file.write(str(number) + '\\n')\n",
    "    print(f\"File '{filename}' has been created with a series of integers.\")\n",
    "except IOError as e:\n",
    "    print(f\"An error occurred: {e}\")"
   ]
  },
  {
   "cell_type": "code",
   "execution_count": 23,
   "id": "2d7d9a50",
   "metadata": {},
   "outputs": [
    {
     "name": "stdout",
     "output_type": "stream",
     "text": [
      "1\n",
      "2\n",
      "3\n",
      "4\n",
      "5\n",
      "6\n",
      "7\n",
      "8\n",
      "9\n",
      "10\n"
     ]
    }
   ],
   "source": [
    "filename = \"numbers.txt\"\n",
    "try:\n",
    "    with open(filename, 'r') as file:\n",
    "        for line in file:\n",
    "            try:\n",
    "                number = int(line.strip()) \n",
    "                print(number)\n",
    "            except ValueError:\n",
    "                print(f\"Skipping non-integer line: {line.strip()}\")\n",
    "except FileNotFoundError:\n",
    "    print(f\"The file {filename} does not exist.\")\n",
    "except IOError as e:\n",
    "    print(f\"An error occurred while reading the file: {e}\")"
   ]
  },
  {
   "cell_type": "markdown",
   "id": "3ba5c7eb",
   "metadata": {},
   "source": [
    "I specified the filename \"numbers.txt\" that we want to read from. Then, I opened the file in read mode ('r') within a with block, which ensures proper file handling, including automatic closure. I iterated through each line in the file, attempting to convert each line to an integer using int(). "
   ]
  },
  {
   "cell_type": "markdown",
   "id": "77b30d96",
   "metadata": {},
   "source": [
    "##Question 6 and 9"
   ]
  },
  {
   "cell_type": "code",
   "execution_count": 28,
   "id": "8f0d12d3",
   "metadata": {},
   "outputs": [
    {
     "name": "stdout",
     "output_type": "stream",
     "text": [
      "The average of the numbers is: 5.5\n"
     ]
    }
   ],
   "source": [
    "\n",
    "filename = \"numbers.txt\"\n",
    "\n",
    "try:\n",
    "\n",
    "    with open(filename, 'r') as file:\n",
    "        numbers = []\n",
    "       \n",
    "        for line in file:\n",
    "            try:\n",
    "                number = int(line.strip())  \n",
    "                numbers.append(number)\n",
    "            except ValueError:\n",
    "                \n",
    "                print(f\"Skipping non-integer line: {line.strip()}\")\n",
    "        \n",
    "        if numbers:\n",
    "            average = sum(numbers) / len(numbers)\n",
    "            print(f\"The average of the numbers is: {average}\")\n",
    "        else:\n",
    "            print(\"No valid numbers found in the file.\")\n",
    "except FileNotFoundError:\n",
    "    print(f\"The file {filename} does not exist.\")\n",
    "except IOError as e:\n",
    "    print(f\"An error occurred while reading the file: {e}\")\n",
    "\n",
    "    print(f\"An error occurred while reading the file: {e}\")"
   ]
  },
  {
   "cell_type": "markdown",
   "id": "b17bdc83",
   "metadata": {},
   "source": [
    "I specified the filename \"numbers.txt\" that we wanted to read from. Then, within a with block, I opened the file in read mode ('r') to ensure proper file handling, including automatic closure. I read each line from the file, attempting to convert them to integers and storing them in a list called numbers. After collecting all the valid numbers, I calculated the average by summing them up and dividing by the count of numbers. I included exception handling for cases like the file not being found, general I/O errors, and handling non-integer lines which was asked in question 9. Finally, the program prints either the calculated average or a message indicating that no valid numbers were found in the file."
   ]
  },
  {
   "cell_type": "markdown",
   "id": "ed98da48",
   "metadata": {},
   "source": [
    "##Question 11"
   ]
  },
  {
   "cell_type": "code",
   "execution_count": 29,
   "id": "3fdce968",
   "metadata": {},
   "outputs": [
    {
     "name": "stdout",
     "output_type": "stream",
     "text": [
      "Please enter your name: Trevor\n",
      "Please enter a sentence that describes yourself: My favorite thing to do after a long day of school or work is to go to the gym and relieve all of my stress.\n",
      "Name: Trevor\n",
      "Description: My favorite thing to do after a long day of school or work is to go to the gym and relieve all of my stress.\n"
     ]
    }
   ],
   "source": [
    "user_name = input(\"Please enter your name: \")\n",
    "\n",
    "\n",
    "user_description = input(\"Please enter a sentence that describes yourself: \")\n",
    "\n",
    "\n",
    "print(f\"Name: {user_name}\")\n",
    "print(f\"Description: {user_description}\")\n"
   ]
  },
  {
   "cell_type": "markdown",
   "id": "7554e7cc",
   "metadata": {},
   "source": [
    "I used input() to ask for my name and stored it in the variable user_name.\n",
    "Next, I used input() again to ask the user for a sentence describing themselves, storing it in the variable user_description.\n",
    "Finally, I printed the user's name and the provided description to display their information.\n"
   ]
  }
 ],
 "metadata": {
  "kernelspec": {
   "display_name": "Python 3 (ipykernel)",
   "language": "python",
   "name": "python3"
  },
  "language_info": {
   "codemirror_mode": {
    "name": "ipython",
    "version": 3
   },
   "file_extension": ".py",
   "mimetype": "text/x-python",
   "name": "python",
   "nbconvert_exporter": "python",
   "pygments_lexer": "ipython3",
   "version": "3.11.4"
  }
 },
 "nbformat": 4,
 "nbformat_minor": 5
}
